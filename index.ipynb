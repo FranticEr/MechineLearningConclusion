{
 "cells": [
  {
   "cell_type": "code",
   "execution_count": 6,
   "metadata": {},
   "outputs": [],
   "source": [
    "import os,sys\n",
    "os.chdir(\"G:\\jupyternotebook\\conclusion\\s\")"
   ]
  },
  {
   "attachments": {},
   "cell_type": "markdown",
   "metadata": {},
   "source": [
    "# 目录\n",
    "- [笔记软件](about_note_app.ipynb)\n",
    "- [学习小仓库](tips.ipynb)\n",
    "- [stm32笔记目录](E:\\stm32\\note\\Index.ipynb)\n",
    "- [网络模型设计](net_design.ipynb)\n",
    "- [机器学习的基本思想](besaic_ideal.ipynb)\n",
    "- [机器学习、深度学习、模式识别、统计模型](mode.ipynb)\n",
    "- [pytorch](pytorch.ipynb)\n",
    "- [知识体系总览](conclusion.ipynb)\n",
    "- [编程基础](code_basic.ipynb)"
   ]
  }
 ],
 "metadata": {
  "kernelspec": {
   "display_name": "test",
   "language": "python",
   "name": "python3"
  },
  "language_info": {
   "codemirror_mode": {
    "name": "ipython",
    "version": 3
   },
   "file_extension": ".py",
   "mimetype": "text/x-python",
   "name": "python",
   "nbconvert_exporter": "python",
   "pygments_lexer": "ipython3",
   "version": "3.9.13"
  },
  "orig_nbformat": 4
 },
 "nbformat": 4,
 "nbformat_minor": 2
}
