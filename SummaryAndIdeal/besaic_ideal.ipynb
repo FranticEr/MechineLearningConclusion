{
 "cells": [
  {
   "attachments": {},
   "cell_type": "markdown",
   "metadata": {},
   "source": [
    "# 基本思想\n",
    "- 基本假设\n",
    "- 聚类分类思想"
   ]
  },
  {
   "attachments": {},
   "cell_type": "markdown",
   "metadata": {},
   "source": [
    "## 基本假设\n",
    "- 相同的类具有相似的特征，不同的类特征相互远离\n",
    "- 特征的分布是连续的"
   ]
  },
  {
   "attachments": {},
   "cell_type": "markdown",
   "metadata": {},
   "source": [
    "## 聚类分类思想"
   ]
  },
  {
   "cell_type": "markdown",
   "metadata": {},
   "source": [
    "聚类分类就是根据基本假设，将原有的特征空间进行映射，使得相同的类具有相似的特征，不同的类特征相互远离"
   ]
  }
 ],
 "metadata": {
  "language_info": {
   "name": "python"
  },
  "orig_nbformat": 4
 },
 "nbformat": 4,
 "nbformat_minor": 2
}
