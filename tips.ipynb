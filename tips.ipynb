{
 "cells": [
  {
   "attachments": {},
   "cell_type": "markdown",
   "metadata": {},
   "source": [
    "## 论文查找"
   ]
  },
  {
   "attachments": {},
   "cell_type": "markdown",
   "metadata": {},
   "source": [
    "- [Sci-Hub: 对每个人的知识](https://sci-hub.se/)\n",
    "- 中国知网\n",
    "- [Home Feed | ResearchGate](https://www.researchgate.net/)"
   ]
  },
  {
   "attachments": {},
   "cell_type": "markdown",
   "metadata": {},
   "source": [
    "## 看论文软件："
   ]
  },
  {
   "attachments": {},
   "cell_type": "markdown",
   "metadata": {},
   "source": [
    "- 论文管理软件：zotero，知网研学\n",
    "- 论文阅读软件：小绿鲸\n",
    "- 笔记软件：Onenote,Notion,Obsidian"
   ]
  },
  {
   "attachments": {},
   "cell_type": "markdown",
   "metadata": {},
   "source": [
    "## 学习教程网站："
   ]
  },
  {
   "attachments": {},
   "cell_type": "markdown",
   "metadata": {},
   "source": [
    "[菜鸟教程](https://www.runoob.com/)，[我要自学网](https://www.51zxw.net/),[C语言中文网](http://c.biancheng.net/matplotlib/)"
   ]
  },
  {
   "attachments": {},
   "cell_type": "markdown",
   "metadata": {},
   "source": [
    "## 知识/书籍资源"
   ]
  },
  {
   "attachments": {},
   "cell_type": "markdown",
   "metadata": {},
   "source": [
    "- 动手学深度学习：[《动手学深度学习》：面向中文读者、能运行、可讨论 (gluon.ai)](http://zh.gluon.ai/)\n",
    "- 深度学习复旦大学邱锡鹏：[邱锡鹏 个人主页](xpqiu.github.io)，[神经网络与深度学习](nndl.github.io)\n",
    "- 机器视觉三维重建：[CV-XUEBA](https://cv-xueba.club/pages/courses/cv_sfm.html)"
   ]
  },
  {
   "attachments": {},
   "cell_type": "markdown",
   "metadata": {},
   "source": [
    "## 文档网站："
   ]
  },
  {
   "cell_type": "markdown",
   "metadata": {},
   "source": [
    "python：https://docs.python.org/zh-cn/3/tutorial/index.html  \n",
    "Sklearn:[scikit-learn: machine learning in Python — scikit-learn 1.2.2 documentation](https://scikit-learn.org/stable/index.html)  \n",
    "Pytorch:[PyTorch documentation — PyTorch 2.0 documentation](https://pytorch.org/docs/stable/index.html)  \n",
    "Jupyter:[Jupyter Widgets — Jupyter Widgets 8.0.5 documentation(ipywidgets.readthedocs.io)](https://ipywidgets.readthedocs.io/en/stable/)  "
   ]
  },
  {
   "cell_type": "markdown",
   "metadata": {},
   "source": [
    "## Python常用库"
   ]
  },
  {
   "attachments": {},
   "cell_type": "markdown",
   "metadata": {},
   "source": [
    "- sklearn：[sklearn (scikitlearn.com.cn)](https://www.scikitlearn.com.cn/)，[新手教程](https://scikit-learn.org/stable/getting_started.html)，[API](https://scikit-learn.org/stable/modules/classes.html)\n",
    "- pytorch\n",
    "\n",
    "- pandas\n",
    "- numpy\n",
    "\n",
    "- opencv\n",
    "- matplotlib\n",
    "- PIL\n",
    "\n",
    "- sqlite3\n",
    "- json\n",
    "- xml"
   ]
  }
 ],
 "metadata": {
  "language_info": {
   "name": "python"
  },
  "orig_nbformat": 4
 },
 "nbformat": 4,
 "nbformat_minor": 2
}
