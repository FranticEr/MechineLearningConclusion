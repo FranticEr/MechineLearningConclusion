{
 "cells": [
  {
   "attachments": {},
   "cell_type": "markdown",
   "metadata": {},
   "source": [
    "# 人工智能"
   ]
  },
  {
   "attachments": {},
   "cell_type": "markdown",
   "metadata": {},
   "source": [
    "- 统计模型\n",
    "- 线性代数、运筹学（最优化理论、数值分析）\n",
    "- 模式识别、机器学习（神经网络、树模型、SVM,核函数）\n",
    "- 深度学习（MLP,CNN,RNN,Transformer）"
   ]
  },
  {
   "attachments": {},
   "cell_type": "markdown",
   "metadata": {},
   "source": [
    "# 任务"
   ]
  },
  {
   "attachments": {},
   "cell_type": "markdown",
   "metadata": {},
   "source": [
    "- 运筹学\n",
    "  - 线性规划、目标规划\n",
    "  - 非线性规划\n",
    "  - 动态规划\n",
    "  - P-NP问题\n",
    "- 机器学习\n",
    "  - 分类\n",
    "  - 回归\n",
    "  - 生成\n",
    "  - 检测\n",
    "- 深度学习\n",
    "  - 梯度\n",
    "  - 大数据\n",
    "  - 多模态\n",
    "  - 多目标\n",
    "  "
   ]
  },
  {
   "attachments": {},
   "cell_type": "markdown",
   "metadata": {},
   "source": [
    "# 数学与模型\n"
   ]
  },
  {
   "attachments": {},
   "cell_type": "markdown",
   "metadata": {},
   "source": [
    "- 基本假设基于数学\n",
    "- 运算基于数值计算、线性代数\n",
    "- 分析方法基于统计\n",
    "- 优化方法基于最优化理论\n",
    "- 策略基于运筹"
   ]
  },
  {
   "attachments": {},
   "cell_type": "markdown",
   "metadata": {},
   "source": [
    "## 基本模型的思考"
   ]
  },
  {
   "attachments": {},
   "cell_type": "markdown",
   "metadata": {},
   "source": [
    "基本模型有：\n",
    "- 树\n",
    "- MLP\n",
    "- CNN\n",
    "- RNN\n",
    "- Transform\n"
   ]
  },
  {
   "cell_type": "markdown",
   "metadata": {},
   "source": [
    "RNN的思想是基于状体机的  \n",
    "MLP是万能函数发生器  \n",
    "CNN是基于数字图像处理的  \n",
    "Transform是基于核函数的  "
   ]
  },
  {
   "attachments": {},
   "cell_type": "markdown",
   "metadata": {},
   "source": [
    "MLP和树模型本身不具备时序处理能力  \n",
    "RNN是基于状态记忆的时序处理能力  \n",
    "CNN的序列处理能力是基于卷积的，而这种卷积是离散的卷积其时序能力是基于过去状态的叠加，和系统特性，而图片的卷积是割裂的卷积不存储过去状态，所以完全取决与系统特性 \n",
    "Transformer直接添加了时序表和核函数从而在方向和距离上都有了记忆能力  \n",
    " "
   ]
  }
 ],
 "metadata": {
  "language_info": {
   "name": "python"
  },
  "orig_nbformat": 4
 },
 "nbformat": 4,
 "nbformat_minor": 2
}
