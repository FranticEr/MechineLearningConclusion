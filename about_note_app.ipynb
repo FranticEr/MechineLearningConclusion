{
 "cells": [
  {
   "attachments": {},
   "cell_type": "markdown",
   "metadata": {},
   "source": [
    "# 笔记组合推荐"
   ]
  },
  {
   "attachments": {},
   "cell_type": "markdown",
   "metadata": {},
   "source": [
    "- jupyter + github\n",
    "- onenote\n"
   ]
  },
  {
   "attachments": {},
   "cell_type": "markdown",
   "metadata": {},
   "source": [
    "## 为何要使用jupyter?\n",
    "- 因为jupyter可以说是最**丰富多元**的笔记软件，由于它是基于python**编程**的编程软件，所以它可以使用python脚本/程序，其丰富的**python库**可以实现很多效果  \n",
    "- 因为jupyter可以进行**markdown**，可以快速高效的编辑文本**公式**\n",
    "- 因为其是文本的且是编程类的文件，**github**上对其渲染和同步也是比较友好的，这样就有了一个可以进行同步稳定服务器，虽然GitHub访问并不稳定\n",
    "- 因为其是可以进行**git版本控制**的"
   ]
  },
  {
   "attachments": {},
   "cell_type": "markdown",
   "metadata": {},
   "source": [
    "## 为何推荐OneNote\n",
    "- 因为其高度的多设备，**同步**速度也是不错的\n",
    "- 因为它是微软开发的，**持续更新**的软件\n",
    "- 因为它免费，可以付费安装插件进行**markdown**\n",
    "- 因为它可以进行手写，有surface可以进行**手写笔记**，没有surface买一个数位板也是不错的选择\n",
    "- 因为它可以添加很多元的文件，pdf，图片，录音"
   ]
  }
 ],
 "metadata": {
  "kernelspec": {
   "display_name": "test",
   "language": "python",
   "name": "python3"
  },
  "language_info": {
   "codemirror_mode": {
    "name": "ipython",
    "version": 3
   },
   "file_extension": ".py",
   "mimetype": "text/x-python",
   "name": "python",
   "nbconvert_exporter": "python",
   "pygments_lexer": "ipython3",
   "version": "3.9.13"
  },
  "orig_nbformat": 4
 },
 "nbformat": 4,
 "nbformat_minor": 2
}
