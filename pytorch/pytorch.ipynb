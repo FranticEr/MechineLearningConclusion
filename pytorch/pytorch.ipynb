{
 "cells": [
  {
   "attachments": {},
   "cell_type": "markdown",
   "metadata": {},
   "source": [
    "# pytorch"
   ]
  },
  {
   "attachments": {},
   "cell_type": "markdown",
   "metadata": {},
   "source": [
    "## 张量\n",
    "在pytorch的张量系统中可以分为三层：数值，元素，向量。  \n",
    "向量的下级是元素，向量是元素的有序列，最基本的张量即向量是一维张量<code>[n]</code>  \n",
    "元素可以是向量也可以是数值，  \n",
    "数值是最基本的单位，数值的<code>shape</code>是<code>[]</code>，"
   ]
  },
  {
   "cell_type": "code",
   "execution_count": 7,
   "metadata": {},
   "outputs": [
    {
     "data": {
      "text/plain": [
       "(tensor([[1., 1.]]),\n",
       " torch.Size([1, 2]),\n",
       " tensor([1., 1.]),\n",
       " torch.Size([2]),\n",
       " tensor(2),\n",
       " torch.Size([]))"
      ]
     },
     "execution_count": 7,
     "metadata": {},
     "output_type": "execute_result"
    }
   ],
   "source": [
    "import torch\n",
    "torch.ones(1,2),torch.ones(1,2).shape,torch.ones([2,]),torch.ones([2,]).shape,torch.tensor(2),torch.tensor(2).shape"
   ]
  }
 ],
 "metadata": {
  "kernelspec": {
   "display_name": "test",
   "language": "python",
   "name": "python3"
  },
  "language_info": {
   "codemirror_mode": {
    "name": "ipython",
    "version": 3
   },
   "file_extension": ".py",
   "mimetype": "text/x-python",
   "name": "python",
   "nbconvert_exporter": "python",
   "pygments_lexer": "ipython3",
   "version": "3.9.13"
  },
  "orig_nbformat": 4
 },
 "nbformat": 4,
 "nbformat_minor": 2
}
